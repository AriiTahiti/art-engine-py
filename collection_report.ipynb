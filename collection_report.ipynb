{
 "cells": [
  {
   "cell_type": "markdown",
   "metadata": {
    "collapsed": true
   },
   "source": [
    "# Collection Report\n",
    "\n",
    "\n",
    "This report aim to visualize the statistics of the collection that has been created. This can help the team to decide if the collection generated respect the statistics, follow the randomization and also it will help the team to search art with specific attributs.\n"
   ]
  },
  {
   "cell_type": "code",
   "execution_count": 9,
   "metadata": {},
   "outputs": [],
   "source": [
    "import json\n",
    "import pandas as pd\n",
    "import numpy as np\n",
    "import re\n",
    "from itertools import chain\n",
    "import os\n",
    "\n",
    "\n",
    "\n",
    "def cap_sentence(s):\n",
    "    return ''.join((c.upper() if prev == ' ' else c) for c, prev in zip(s, chain(' ', s)))\n",
    "\n",
    "pattern = r'[0-9]'"
   ]
  },
  {
   "cell_type": "code",
   "execution_count": null,
   "metadata": {
    "pycharm": {
     "is_executing": true
    }
   },
   "outputs": [],
   "source": [
    "# import data\n",
    "with open('final_collection.json') as f:\n",
    "    metadatas =json.loads(f.read())\n",
    "    final = pd.DataFrame(json.loads(metadatas))\n",
    "\n",
    "# Formating final\n",
    "layers = ['Accessories', 'Background', 'Bandanas', 'Beard', 'Cloths', 'Extra', 'Eye Cover',\n",
    "          'Eyes', 'Hats', 'In Mouth', 'Skeleton', 'Teeth']\n",
    "\n",
    "for var in layers:\n",
    "    final[var] = np.nan\n",
    "\n",
    "for index, row in final.iterrows():\n",
    "    all_attributes = row.attributes\n",
    "    for attr in all_attributes:\n",
    "        final.loc[index, attr['name']] = attr['value']\n",
    "\n",
    "\n",
    "data = pd.read_excel('attributes.xlsx')\n",
    "\n",
    "# Formating the data\n",
    "data['GROUPS'] = data['GROUPS'].ffill()\n",
    "data = data[data['FILE NAMES'].notnull()]\n",
    "\n",
    "data = data[data['GROUPS'] != 'LEGENDARIES']\n",
    "data = data[data['GROUPS'] != '12-EXTRA']\n",
    "data = data.drop(['COLORS MATCHING', 'FORCED MIX'], axis=1).reset_index(drop=True)"
   ]
  },
  {
   "cell_type": "markdown",
   "metadata": {},
   "source": [
    "### Assertion Statistics\n"
   ]
  },
  {
   "cell_type": "code",
   "execution_count": null,
   "metadata": {
    "pycharm": {
     "is_executing": true
    }
   },
   "outputs": [],
   "source": [
    "number_nfts = 4840\n",
    "error_tolerance = 0.03\n"
   ]
  },
  {
   "cell_type": "markdown",
   "metadata": {},
   "source": [
    "###  Number of NFT Generated"
   ]
  },
  {
   "cell_type": "code",
   "execution_count": null,
   "metadata": {
    "pycharm": {
     "is_executing": true
    }
   },
   "outputs": [],
   "source": [
    "assert number_nfts == len(final)\n",
    "print(f'Number of NFTs generated: {len(final)}')"
   ]
  },
  {
   "cell_type": "markdown",
   "metadata": {},
   "source": [
    "## Check Distribution"
   ]
  },
  {
   "cell_type": "code",
   "execution_count": null,
   "metadata": {
    "pycharm": {
     "is_executing": true
    }
   },
   "outputs": [],
   "source": [
    "# Create the expected number of Appearance\n",
    "        \n",
    "data['expected_dist'] = data['% DISTRIBUTION'] * number_nfts / 100\n",
    "data['expected_dist'] = data['expected_dist'].astype(int)\n",
    "\n",
    "data['upper'] = data['expected_dist'] * (1 + error_tolerance)\n",
    "data['upper'] = data['upper'].astype(int)\n",
    "\n",
    "data['lower'] = data['expected_dist'] * (1 - error_tolerance)\n",
    "data['lower'] = data['lower'].astype(int)\n"
   ]
  },
  {
   "cell_type": "markdown",
   "metadata": {},
   "source": [
    "### Assert All Disibution\n"
   ]
  },
  {
   "cell_type": "code",
   "execution_count": null,
   "metadata": {
    "pycharm": {
     "is_executing": true
    }
   },
   "outputs": [],
   "source": [
    "data['real_dist'] = np.nan\n",
    "\n",
    "for index, row in data.iterrows():\n",
    "    \n",
    "    group_str = row.GROUPS\n",
    "\n",
    "    grp_name = re.sub(pattern, '', group_str.lower())\n",
    "    grp_name = grp_name.replace('-', '')\n",
    "    grp_name = cap_sentence(grp_name)\n",
    "\n",
    "    attribute = row['ATTRIBUTE NAMES']\n",
    "\n",
    "    all_attributes = final[final[grp_name] == attribute]\n",
    "    \n",
    "    data.loc[index, 'real_dist'] = len(all_attributes)\n"
   ]
  },
  {
   "cell_type": "code",
   "execution_count": null,
   "metadata": {
    "pycharm": {
     "is_executing": true
    }
   },
   "outputs": [],
   "source": [
    "all_attributes = final[final['accessories']=='GOLD']\n",
    "\n",
    "for index, row in all_attributes.iterrows():\n",
    "    print(row['name'])"
   ]
  },
  {
   "cell_type": "code",
   "execution_count": null,
   "metadata": {
    "pycharm": {
     "is_executing": true
    }
   },
   "outputs": [],
   "source": [
    "data['difference'] = 1 - data['expected_dist'] / data['real_dist']"
   ]
  },
  {
   "cell_type": "code",
   "execution_count": null,
   "metadata": {
    "pycharm": {
     "is_executing": true
    }
   },
   "outputs": [],
   "source": [
    "data.to_csv('analysis.csv', index=False)"
   ]
  },
  {
   "cell_type": "code",
   "execution_count": null,
   "metadata": {
    "pycharm": {
     "is_executing": true
    }
   },
   "outputs": [],
   "source": [
    "data"
   ]
  },
  {
   "cell_type": "code",
   "execution_count": null,
   "metadata": {
    "pycharm": {
     "is_executing": true
    }
   },
   "outputs": [],
   "source": [
    "### 1 - Background"
   ]
  },
  {
   "cell_type": "code",
   "execution_count": null,
   "metadata": {
    "pycharm": {
     "is_executing": true
    }
   },
   "outputs": [],
   "source": [
    "### 1 - Background"
   ]
  },
  {
   "cell_type": "code",
   "execution_count": null,
   "metadata": {
    "pycharm": {
     "is_executing": true
    }
   },
   "outputs": [],
   "source": [
    "### 1 - Background"
   ]
  },
  {
   "cell_type": "code",
   "execution_count": null,
   "metadata": {
    "pycharm": {
     "is_executing": true
    }
   },
   "outputs": [],
   "source": [
    "### 1 - Background"
   ]
  },
  {
   "cell_type": "code",
   "execution_count": null,
   "metadata": {
    "pycharm": {
     "is_executing": true
    }
   },
   "outputs": [],
   "source": [
    "### 1 - Background"
   ]
  },
  {
   "cell_type": "code",
   "execution_count": null,
   "metadata": {
    "pycharm": {
     "is_executing": true
    }
   },
   "outputs": [],
   "source": [
    "### 1 - Background"
   ]
  },
  {
   "cell_type": "code",
   "execution_count": null,
   "metadata": {
    "pycharm": {
     "is_executing": true
    }
   },
   "outputs": [],
   "source": []
  },
  {
   "cell_type": "code",
   "execution_count": 12,
   "metadata": {
    "pycharm": {
     "is_executing": true
    }
   },
   "outputs": [
    {
     "data": {
      "text/plain": [
       "4848"
      ]
     },
     "execution_count": 12,
     "metadata": {},
     "output_type": "execute_result"
    }
   ],
   "source": [
    "json_list = os.listdir('build/json_fin/')\n",
    "len(json_list)"
   ]
  },
  {
   "cell_type": "code",
   "execution_count": 22,
   "metadata": {
    "pycharm": {
     "is_executing": true
    }
   },
   "outputs": [],
   "source": [
    "all_json = []\n",
    "\n",
    "\n",
    "for x in json_list:\n",
    "    \n",
    "    with open(f'build/json_fin/{x}') as f:\n",
    "        metadatas =json.loads(f.read())\n",
    "        data = json.loads(metadatas)\n",
    "        data['json_name_file'] = x\n",
    "        all_json.append(data)\n",
    "\n",
    "    \n"
   ]
  },
  {
   "cell_type": "code",
   "execution_count": 23,
   "metadata": {
    "pycharm": {
     "is_executing": true
    }
   },
   "outputs": [],
   "source": [
    "final = pd.DataFrame(all_json)\n"
   ]
  },
  {
   "cell_type": "code",
   "execution_count": 24,
   "metadata": {
    "pycharm": {
     "is_executing": true
    }
   },
   "outputs": [
    {
     "data": {
      "text/html": [
       "<div>\n",
       "<style scoped>\n",
       "    .dataframe tbody tr th:only-of-type {\n",
       "        vertical-align: middle;\n",
       "    }\n",
       "\n",
       "    .dataframe tbody tr th {\n",
       "        vertical-align: top;\n",
       "    }\n",
       "\n",
       "    .dataframe thead th {\n",
       "        text-align: right;\n",
       "    }\n",
       "</style>\n",
       "<table border=\"1\" class=\"dataframe\">\n",
       "  <thead>\n",
       "    <tr style=\"text-align: right;\">\n",
       "      <th></th>\n",
       "      <th>name</th>\n",
       "      <th>description</th>\n",
       "      <th>image</th>\n",
       "      <th>dna</th>\n",
       "      <th>attributes</th>\n",
       "      <th>json_name_file</th>\n",
       "    </tr>\n",
       "  </thead>\n",
       "  <tbody>\n",
       "    <tr>\n",
       "      <th>0</th>\n",
       "      <td>JRS #2450</td>\n",
       "      <td>Generated JRS Collection of 4848 NFTs</td>\n",
       "      <td></td>\n",
       "      <td>fd0b3f8bf0d4840f9ab2fdfe2fe9a05c785b27c82f8180...</td>\n",
       "      <td>[{'name': 'Background', 'value': 'BLUE SMOKE'}...</td>\n",
       "      <td>4092_.json</td>\n",
       "    </tr>\n",
       "    <tr>\n",
       "      <th>1</th>\n",
       "      <td>JRS #1257</td>\n",
       "      <td>Generated JRS Collection of 4848 NFTs</td>\n",
       "      <td></td>\n",
       "      <td>5e9c9b7b986cb7e338449f3f019c41aec361e597b703e3...</td>\n",
       "      <td>[{'name': 'Background', 'value': 'BLUE SMOKE'}...</td>\n",
       "      <td>3582_.json</td>\n",
       "    </tr>\n",
       "    <tr>\n",
       "      <th>2</th>\n",
       "      <td>JRS #2391</td>\n",
       "      <td>Generated JRS Collection of 4848 NFTs</td>\n",
       "      <td></td>\n",
       "      <td>3343f6ca2270b4af3adf9ba23664b9b7d0d161ccce1a1d...</td>\n",
       "      <td>[{'name': 'Background', 'value': 'BLUE SMOKE'}...</td>\n",
       "      <td>3153_.json</td>\n",
       "    </tr>\n",
       "    <tr>\n",
       "      <th>3</th>\n",
       "      <td>JRS #1220</td>\n",
       "      <td>Generated JRS Collection of 4848 NFTs</td>\n",
       "      <td></td>\n",
       "      <td>7d7e509d698c821e105d91bf334701129cf203d4b5942c...</td>\n",
       "      <td>[{'name': 'Background', 'value': 'BLUE SMOKE'}...</td>\n",
       "      <td>4443_.json</td>\n",
       "    </tr>\n",
       "    <tr>\n",
       "      <th>4</th>\n",
       "      <td>JRS #3368</td>\n",
       "      <td>Generated JRS Collection of 4848 NFTs</td>\n",
       "      <td></td>\n",
       "      <td>f8912d4e3746f54c36f9e401b87613587009d250179e8f...</td>\n",
       "      <td>[{'name': 'Background', 'value': 'BLUE SMOKE'}...</td>\n",
       "      <td>1225_.json</td>\n",
       "    </tr>\n",
       "    <tr>\n",
       "      <th>...</th>\n",
       "      <td>...</td>\n",
       "      <td>...</td>\n",
       "      <td>...</td>\n",
       "      <td>...</td>\n",
       "      <td>...</td>\n",
       "      <td>...</td>\n",
       "    </tr>\n",
       "    <tr>\n",
       "      <th>4843</th>\n",
       "      <td>JRS #1636</td>\n",
       "      <td>Generated JRS Collection of 4848 NFTs</td>\n",
       "      <td></td>\n",
       "      <td>897816b1008e81e191fec8632d9b521ca5ff8b075daa00...</td>\n",
       "      <td>[{'name': 'Background', 'value': 'BLUE SMOKE'}...</td>\n",
       "      <td>724_.json</td>\n",
       "    </tr>\n",
       "    <tr>\n",
       "      <th>4844</th>\n",
       "      <td>JRS #3323</td>\n",
       "      <td>Generated JRS Collection of 4848 NFTs</td>\n",
       "      <td></td>\n",
       "      <td>60a4a4ee40ab3d10357307bc07794f1821b38aafe85642...</td>\n",
       "      <td>[{'name': 'Background', 'value': 'BLUE SMOKE'}...</td>\n",
       "      <td>2493_.json</td>\n",
       "    </tr>\n",
       "    <tr>\n",
       "      <th>4845</th>\n",
       "      <td>JRS #3142</td>\n",
       "      <td>Generated JRS Collection of 4848 NFTs</td>\n",
       "      <td></td>\n",
       "      <td>1aa91aa63e2ca002d706a283a5260a4bd435cee30d8c00...</td>\n",
       "      <td>[{'name': 'Background', 'value': 'BLUE SMOKE'}...</td>\n",
       "      <td>2007_.json</td>\n",
       "    </tr>\n",
       "    <tr>\n",
       "      <th>4846</th>\n",
       "      <td>JRS #701</td>\n",
       "      <td>Generated JRS Collection of 4848 NFTs</td>\n",
       "      <td></td>\n",
       "      <td>4c516ecf8a437ad9a60c2b927d632468c43ae2410e4fdf...</td>\n",
       "      <td>[{'name': 'Background', 'value': 'BLUE SMOKE'}...</td>\n",
       "      <td>761_.json</td>\n",
       "    </tr>\n",
       "    <tr>\n",
       "      <th>4847</th>\n",
       "      <td>JRS #1530</td>\n",
       "      <td>Generated JRS Collection of 4848 NFTs</td>\n",
       "      <td></td>\n",
       "      <td>137d22363462fbd40431730b8fd3a8d17460e7220a3b0c...</td>\n",
       "      <td>[{'name': 'Background', 'value': 'BLUE SMOKE'}...</td>\n",
       "      <td>2844_.json</td>\n",
       "    </tr>\n",
       "  </tbody>\n",
       "</table>\n",
       "<p>4848 rows × 6 columns</p>\n",
       "</div>"
      ],
      "text/plain": [
       "           name                            description image  \\\n",
       "0     JRS #2450  Generated JRS Collection of 4848 NFTs         \n",
       "1     JRS #1257  Generated JRS Collection of 4848 NFTs         \n",
       "2     JRS #2391  Generated JRS Collection of 4848 NFTs         \n",
       "3     JRS #1220  Generated JRS Collection of 4848 NFTs         \n",
       "4     JRS #3368  Generated JRS Collection of 4848 NFTs         \n",
       "...         ...                                    ...   ...   \n",
       "4843  JRS #1636  Generated JRS Collection of 4848 NFTs         \n",
       "4844  JRS #3323  Generated JRS Collection of 4848 NFTs         \n",
       "4845  JRS #3142  Generated JRS Collection of 4848 NFTs         \n",
       "4846   JRS #701  Generated JRS Collection of 4848 NFTs         \n",
       "4847  JRS #1530  Generated JRS Collection of 4848 NFTs         \n",
       "\n",
       "                                                    dna  \\\n",
       "0     fd0b3f8bf0d4840f9ab2fdfe2fe9a05c785b27c82f8180...   \n",
       "1     5e9c9b7b986cb7e338449f3f019c41aec361e597b703e3...   \n",
       "2     3343f6ca2270b4af3adf9ba23664b9b7d0d161ccce1a1d...   \n",
       "3     7d7e509d698c821e105d91bf334701129cf203d4b5942c...   \n",
       "4     f8912d4e3746f54c36f9e401b87613587009d250179e8f...   \n",
       "...                                                 ...   \n",
       "4843  897816b1008e81e191fec8632d9b521ca5ff8b075daa00...   \n",
       "4844  60a4a4ee40ab3d10357307bc07794f1821b38aafe85642...   \n",
       "4845  1aa91aa63e2ca002d706a283a5260a4bd435cee30d8c00...   \n",
       "4846  4c516ecf8a437ad9a60c2b927d632468c43ae2410e4fdf...   \n",
       "4847  137d22363462fbd40431730b8fd3a8d17460e7220a3b0c...   \n",
       "\n",
       "                                             attributes json_name_file  \n",
       "0     [{'name': 'Background', 'value': 'BLUE SMOKE'}...     4092_.json  \n",
       "1     [{'name': 'Background', 'value': 'BLUE SMOKE'}...     3582_.json  \n",
       "2     [{'name': 'Background', 'value': 'BLUE SMOKE'}...     3153_.json  \n",
       "3     [{'name': 'Background', 'value': 'BLUE SMOKE'}...     4443_.json  \n",
       "4     [{'name': 'Background', 'value': 'BLUE SMOKE'}...     1225_.json  \n",
       "...                                                 ...            ...  \n",
       "4843  [{'name': 'Background', 'value': 'BLUE SMOKE'}...      724_.json  \n",
       "4844  [{'name': 'Background', 'value': 'BLUE SMOKE'}...     2493_.json  \n",
       "4845  [{'name': 'Background', 'value': 'BLUE SMOKE'}...     2007_.json  \n",
       "4846  [{'name': 'Background', 'value': 'BLUE SMOKE'}...      761_.json  \n",
       "4847  [{'name': 'Background', 'value': 'BLUE SMOKE'}...     2844_.json  \n",
       "\n",
       "[4848 rows x 6 columns]"
      ]
     },
     "execution_count": 24,
     "metadata": {},
     "output_type": "execute_result"
    }
   ],
   "source": [
    "final"
   ]
  },
  {
   "cell_type": "code",
   "execution_count": 25,
   "metadata": {
    "pycharm": {
     "is_executing": true
    }
   },
   "outputs": [],
   "source": [
    "\n",
    "# Formating final\n",
    "layers = ['Accessories', 'Background', 'Bandanas', 'Beard', 'Cloths', 'Extra', 'Eye Cover',\n",
    "          'Eyes', 'Hats', 'In Mouth', 'Skeleton', 'Teeth', 'Extra']\n",
    "\n",
    "for var in layers:\n",
    "    final[var] = np.nan\n",
    "\n",
    "for index, row in final.iterrows():\n",
    "    all_attributes = row.attributes\n",
    "    for attr in all_attributes:\n",
    "        final.loc[index, attr['name']] = attr['value']\n",
    "\n"
   ]
  },
  {
   "cell_type": "code",
   "execution_count": 26,
   "metadata": {
    "pycharm": {
     "is_executing": true
    }
   },
   "outputs": [
    {
     "data": {
      "text/html": [
       "<div>\n",
       "<style scoped>\n",
       "    .dataframe tbody tr th:only-of-type {\n",
       "        vertical-align: middle;\n",
       "    }\n",
       "\n",
       "    .dataframe tbody tr th {\n",
       "        vertical-align: top;\n",
       "    }\n",
       "\n",
       "    .dataframe thead th {\n",
       "        text-align: right;\n",
       "    }\n",
       "</style>\n",
       "<table border=\"1\" class=\"dataframe\">\n",
       "  <thead>\n",
       "    <tr style=\"text-align: right;\">\n",
       "      <th></th>\n",
       "      <th>name</th>\n",
       "      <th>description</th>\n",
       "      <th>image</th>\n",
       "      <th>dna</th>\n",
       "      <th>attributes</th>\n",
       "      <th>json_name_file</th>\n",
       "      <th>Accessories</th>\n",
       "      <th>Background</th>\n",
       "      <th>Bandanas</th>\n",
       "      <th>Beard</th>\n",
       "      <th>Cloths</th>\n",
       "      <th>Extra</th>\n",
       "      <th>Eye Cover</th>\n",
       "      <th>Eyes</th>\n",
       "      <th>Hats</th>\n",
       "      <th>In Mouth</th>\n",
       "      <th>Skeleton</th>\n",
       "      <th>Teeth</th>\n",
       "      <th>Legendaries</th>\n",
       "    </tr>\n",
       "  </thead>\n",
       "  <tbody>\n",
       "    <tr>\n",
       "      <th>527</th>\n",
       "      <td>JRS #3470</td>\n",
       "      <td>Generated JRS Collection of 4848 NFTs</td>\n",
       "      <td></td>\n",
       "      <td>91ddc015f1591e5c23054c6abac2e956e71b4f9e604540...</td>\n",
       "      <td>[{'name': 'Background', 'value': 'BLUE SMOKE'}...</td>\n",
       "      <td>3997_.json</td>\n",
       "      <td>GUN BEIGE GOLD JRS</td>\n",
       "      <td>BLUE SMOKE</td>\n",
       "      <td>NaN</td>\n",
       "      <td>NaN</td>\n",
       "      <td>JACKET 4 FABRIC DIRTY</td>\n",
       "      <td>FEATHER PURPLE</td>\n",
       "      <td>PATCH 3 RUSTED</td>\n",
       "      <td>BASE GREEN</td>\n",
       "      <td>PRIVATEER LEATHER BLACK</td>\n",
       "      <td>NaN</td>\n",
       "      <td>BONES</td>\n",
       "      <td>GOLD TOOTH</td>\n",
       "      <td>NaN</td>\n",
       "    </tr>\n",
       "    <tr>\n",
       "      <th>710</th>\n",
       "      <td>JRS #2380</td>\n",
       "      <td>Generated JRS Collection of 4848 NFTs</td>\n",
       "      <td></td>\n",
       "      <td>0c022db578ec14329374cce0d2bd4a7733afa7b4a03878...</td>\n",
       "      <td>[{'name': 'Background', 'value': 'BLUE SMOKE'}...</td>\n",
       "      <td>4230_.json</td>\n",
       "      <td>SWORD RUSTED</td>\n",
       "      <td>BLUE SMOKE</td>\n",
       "      <td>LEATHER BROWN JRS</td>\n",
       "      <td>NaN</td>\n",
       "      <td>JACKET 4 FABRIC DIRTY</td>\n",
       "      <td>FEATHER RAINBOW</td>\n",
       "      <td>PATCH 4 BROWN 1</td>\n",
       "      <td>BASE GOLD</td>\n",
       "      <td>NaN</td>\n",
       "      <td>NaN</td>\n",
       "      <td>DIRTY</td>\n",
       "      <td>CRACKED 2</td>\n",
       "      <td>NaN</td>\n",
       "    </tr>\n",
       "    <tr>\n",
       "      <th>1508</th>\n",
       "      <td>JRS #2954</td>\n",
       "      <td>Generated JRS Collection of 4848 NFTs</td>\n",
       "      <td></td>\n",
       "      <td>09c74812554269aa9e34e376d85b1d5cf2ef5716164bc0...</td>\n",
       "      <td>[{'name': 'Background', 'value': 'BLUE SMOKE'}...</td>\n",
       "      <td>878_.json</td>\n",
       "      <td>NaN</td>\n",
       "      <td>BLUE SMOKE</td>\n",
       "      <td>NaN</td>\n",
       "      <td>BEARD GREY</td>\n",
       "      <td>JACKET 1 LEATHER BLACK MINI SKULLS GOLD</td>\n",
       "      <td>FEATHER BLACK</td>\n",
       "      <td>PATCH 4 BROWN 2</td>\n",
       "      <td>BASE PURPLE</td>\n",
       "      <td>NaN</td>\n",
       "      <td>NaN</td>\n",
       "      <td>BONES</td>\n",
       "      <td>WHITE</td>\n",
       "      <td>NaN</td>\n",
       "    </tr>\n",
       "    <tr>\n",
       "      <th>3239</th>\n",
       "      <td>JRS #3292</td>\n",
       "      <td>Generated JRS Collection of 4848 NFTs</td>\n",
       "      <td></td>\n",
       "      <td>a3fbc99cf0c0885329bb1576ea1b2f054a27789a599df5...</td>\n",
       "      <td>[{'name': 'Background', 'value': 'BLUE SMOKE'}...</td>\n",
       "      <td>4027_.json</td>\n",
       "      <td>CHAIN JRS GOLD SKULL</td>\n",
       "      <td>BLUE SMOKE</td>\n",
       "      <td>LEATHER BROWN JRS</td>\n",
       "      <td>NaN</td>\n",
       "      <td>SHIRT PURPLE</td>\n",
       "      <td>FEATHER GREEN</td>\n",
       "      <td>PATCH 1 BROWN</td>\n",
       "      <td>SNAKE RED</td>\n",
       "      <td>PIRATE 3 BROWN JRS COIN</td>\n",
       "      <td>NaN</td>\n",
       "      <td>BONES</td>\n",
       "      <td>CRACKED 2</td>\n",
       "      <td>NaN</td>\n",
       "    </tr>\n",
       "    <tr>\n",
       "      <th>3265</th>\n",
       "      <td>JRS #3378</td>\n",
       "      <td>Generated JRS Collection of 4848 NFTs</td>\n",
       "      <td></td>\n",
       "      <td>a9f39381879bb172ae9dbe6a85cf72881cdc7c015a19a3...</td>\n",
       "      <td>[{'name': 'Background', 'value': 'BLUE SMOKE'}...</td>\n",
       "      <td>1912_.json</td>\n",
       "      <td>CHAIN JRS GOLD SKULL</td>\n",
       "      <td>BLUE SMOKE</td>\n",
       "      <td>FABRIC ORANGE</td>\n",
       "      <td>NaN</td>\n",
       "      <td>JACKET 1 LEATHER BLACK JRS</td>\n",
       "      <td>FEATHER WHITE</td>\n",
       "      <td>PATCH 4 BROWN 2</td>\n",
       "      <td>SNAKE GOLD</td>\n",
       "      <td>PIRATE 3 BROWN</td>\n",
       "      <td>CIGARETTE</td>\n",
       "      <td>DIRTY</td>\n",
       "      <td>RED TOOTH</td>\n",
       "      <td>NaN</td>\n",
       "    </tr>\n",
       "    <tr>\n",
       "      <th>4171</th>\n",
       "      <td>JRS #3216</td>\n",
       "      <td>Generated JRS Collection of 4848 NFTs</td>\n",
       "      <td></td>\n",
       "      <td>62d4978acf71435c597427084328bfff244e2268f3ca78...</td>\n",
       "      <td>[{'name': 'Background', 'value': 'BLUE SMOKE'}...</td>\n",
       "      <td>3265_.json</td>\n",
       "      <td>CHAIN JRS SILVER</td>\n",
       "      <td>BLUE SMOKE</td>\n",
       "      <td>NaN</td>\n",
       "      <td>NaN</td>\n",
       "      <td>JACKET 4 FABRIC BLACK</td>\n",
       "      <td>FEATHER BLUE</td>\n",
       "      <td>PATCH 1 BROWN</td>\n",
       "      <td>BASE BROWN</td>\n",
       "      <td>NaN</td>\n",
       "      <td>NaN</td>\n",
       "      <td>BONES</td>\n",
       "      <td>GOLD TOOTH</td>\n",
       "      <td>NaN</td>\n",
       "    </tr>\n",
       "    <tr>\n",
       "      <th>4378</th>\n",
       "      <td>JRS #688</td>\n",
       "      <td>Generated JRS Collection of 4848 NFTs</td>\n",
       "      <td></td>\n",
       "      <td>38075c7c6b40ae319bd4a36bcbfcfbf5db0abe47f0bfc9...</td>\n",
       "      <td>[{'name': 'Background', 'value': 'BLUE SMOKE'}...</td>\n",
       "      <td>2261_.json</td>\n",
       "      <td>GUN BEIGE RUSTED</td>\n",
       "      <td>BLUE SMOKE</td>\n",
       "      <td>FABRIC BLACK</td>\n",
       "      <td>NaN</td>\n",
       "      <td>JACKET 3 LEATHER BROWN 1</td>\n",
       "      <td>FEATHER YELLOW</td>\n",
       "      <td>PATCH 4 BLACK</td>\n",
       "      <td>SNAKE GREEN</td>\n",
       "      <td>NaN</td>\n",
       "      <td>NaN</td>\n",
       "      <td>DIRTY</td>\n",
       "      <td>PINK TOOTH</td>\n",
       "      <td>NaN</td>\n",
       "    </tr>\n",
       "    <tr>\n",
       "      <th>4536</th>\n",
       "      <td>JRS #608</td>\n",
       "      <td>Generated JRS Collection of 4848 NFTs</td>\n",
       "      <td></td>\n",
       "      <td>dcc78f61a7861094394f9844e14348399ccce18adace0d...</td>\n",
       "      <td>[{'name': 'Background', 'value': 'BLUE SMOKE'}...</td>\n",
       "      <td>3749_.json</td>\n",
       "      <td>DAGGER RUSTED</td>\n",
       "      <td>BLUE SMOKE</td>\n",
       "      <td>NaN</td>\n",
       "      <td>NaN</td>\n",
       "      <td>JACKET 1 FABRIC DIRTY JRS</td>\n",
       "      <td>FEATHER PINK</td>\n",
       "      <td>PATCH 1 BLACK BLUE GEMS</td>\n",
       "      <td>BASE RED</td>\n",
       "      <td>NaN</td>\n",
       "      <td>NaN</td>\n",
       "      <td>DIRTY</td>\n",
       "      <td>METAL TOOTH</td>\n",
       "      <td>NaN</td>\n",
       "    </tr>\n",
       "  </tbody>\n",
       "</table>\n",
       "</div>"
      ],
      "text/plain": [
       "           name                            description image  \\\n",
       "527   JRS #3470  Generated JRS Collection of 4848 NFTs         \n",
       "710   JRS #2380  Generated JRS Collection of 4848 NFTs         \n",
       "1508  JRS #2954  Generated JRS Collection of 4848 NFTs         \n",
       "3239  JRS #3292  Generated JRS Collection of 4848 NFTs         \n",
       "3265  JRS #3378  Generated JRS Collection of 4848 NFTs         \n",
       "4171  JRS #3216  Generated JRS Collection of 4848 NFTs         \n",
       "4378   JRS #688  Generated JRS Collection of 4848 NFTs         \n",
       "4536   JRS #608  Generated JRS Collection of 4848 NFTs         \n",
       "\n",
       "                                                    dna  \\\n",
       "527   91ddc015f1591e5c23054c6abac2e956e71b4f9e604540...   \n",
       "710   0c022db578ec14329374cce0d2bd4a7733afa7b4a03878...   \n",
       "1508  09c74812554269aa9e34e376d85b1d5cf2ef5716164bc0...   \n",
       "3239  a3fbc99cf0c0885329bb1576ea1b2f054a27789a599df5...   \n",
       "3265  a9f39381879bb172ae9dbe6a85cf72881cdc7c015a19a3...   \n",
       "4171  62d4978acf71435c597427084328bfff244e2268f3ca78...   \n",
       "4378  38075c7c6b40ae319bd4a36bcbfcfbf5db0abe47f0bfc9...   \n",
       "4536  dcc78f61a7861094394f9844e14348399ccce18adace0d...   \n",
       "\n",
       "                                             attributes json_name_file  \\\n",
       "527   [{'name': 'Background', 'value': 'BLUE SMOKE'}...     3997_.json   \n",
       "710   [{'name': 'Background', 'value': 'BLUE SMOKE'}...     4230_.json   \n",
       "1508  [{'name': 'Background', 'value': 'BLUE SMOKE'}...      878_.json   \n",
       "3239  [{'name': 'Background', 'value': 'BLUE SMOKE'}...     4027_.json   \n",
       "3265  [{'name': 'Background', 'value': 'BLUE SMOKE'}...     1912_.json   \n",
       "4171  [{'name': 'Background', 'value': 'BLUE SMOKE'}...     3265_.json   \n",
       "4378  [{'name': 'Background', 'value': 'BLUE SMOKE'}...     2261_.json   \n",
       "4536  [{'name': 'Background', 'value': 'BLUE SMOKE'}...     3749_.json   \n",
       "\n",
       "               Accessories  Background           Bandanas       Beard  \\\n",
       "527     GUN BEIGE GOLD JRS  BLUE SMOKE                NaN         NaN   \n",
       "710           SWORD RUSTED  BLUE SMOKE  LEATHER BROWN JRS         NaN   \n",
       "1508                   NaN  BLUE SMOKE                NaN  BEARD GREY   \n",
       "3239  CHAIN JRS GOLD SKULL  BLUE SMOKE  LEATHER BROWN JRS         NaN   \n",
       "3265  CHAIN JRS GOLD SKULL  BLUE SMOKE      FABRIC ORANGE         NaN   \n",
       "4171      CHAIN JRS SILVER  BLUE SMOKE                NaN         NaN   \n",
       "4378      GUN BEIGE RUSTED  BLUE SMOKE       FABRIC BLACK         NaN   \n",
       "4536         DAGGER RUSTED  BLUE SMOKE                NaN         NaN   \n",
       "\n",
       "                                       Cloths            Extra  \\\n",
       "527                     JACKET 4 FABRIC DIRTY   FEATHER PURPLE   \n",
       "710                     JACKET 4 FABRIC DIRTY  FEATHER RAINBOW   \n",
       "1508  JACKET 1 LEATHER BLACK MINI SKULLS GOLD    FEATHER BLACK   \n",
       "3239                             SHIRT PURPLE    FEATHER GREEN   \n",
       "3265               JACKET 1 LEATHER BLACK JRS    FEATHER WHITE   \n",
       "4171                    JACKET 4 FABRIC BLACK     FEATHER BLUE   \n",
       "4378                 JACKET 3 LEATHER BROWN 1   FEATHER YELLOW   \n",
       "4536                JACKET 1 FABRIC DIRTY JRS     FEATHER PINK   \n",
       "\n",
       "                    Eye Cover         Eyes                     Hats  \\\n",
       "527            PATCH 3 RUSTED   BASE GREEN  PRIVATEER LEATHER BLACK   \n",
       "710           PATCH 4 BROWN 1    BASE GOLD                      NaN   \n",
       "1508          PATCH 4 BROWN 2  BASE PURPLE                      NaN   \n",
       "3239            PATCH 1 BROWN    SNAKE RED  PIRATE 3 BROWN JRS COIN   \n",
       "3265          PATCH 4 BROWN 2   SNAKE GOLD           PIRATE 3 BROWN   \n",
       "4171            PATCH 1 BROWN   BASE BROWN                      NaN   \n",
       "4378            PATCH 4 BLACK  SNAKE GREEN                      NaN   \n",
       "4536  PATCH 1 BLACK BLUE GEMS     BASE RED                      NaN   \n",
       "\n",
       "       In Mouth Skeleton        Teeth Legendaries  \n",
       "527         NaN    BONES   GOLD TOOTH         NaN  \n",
       "710         NaN    DIRTY    CRACKED 2         NaN  \n",
       "1508        NaN    BONES        WHITE         NaN  \n",
       "3239        NaN    BONES    CRACKED 2         NaN  \n",
       "3265  CIGARETTE    DIRTY    RED TOOTH         NaN  \n",
       "4171        NaN    BONES   GOLD TOOTH         NaN  \n",
       "4378        NaN    DIRTY   PINK TOOTH         NaN  \n",
       "4536        NaN    DIRTY  METAL TOOTH         NaN  "
      ]
     },
     "execution_count": 26,
     "metadata": {},
     "output_type": "execute_result"
    }
   ],
   "source": [
    "final[final['Extra'].notnull()]"
   ]
  },
  {
   "cell_type": "code",
   "execution_count": null,
   "metadata": {
    "pycharm": {
     "is_executing": true
    }
   },
   "outputs": [],
   "source": []
  },
  {
   "cell_type": "code",
   "execution_count": null,
   "metadata": {
    "pycharm": {
     "is_executing": true
    }
   },
   "outputs": [],
   "source": []
  },
  {
   "cell_type": "code",
   "execution_count": null,
   "metadata": {
    "pycharm": {
     "is_executing": true
    }
   },
   "outputs": [],
   "source": []
  },
  {
   "cell_type": "code",
   "execution_count": null,
   "metadata": {
    "pycharm": {
     "is_executing": true
    }
   },
   "outputs": [],
   "source": []
  },
  {
   "cell_type": "code",
   "execution_count": null,
   "metadata": {
    "pycharm": {
     "is_executing": true
    }
   },
   "outputs": [],
   "source": []
  }
 ],
 "metadata": {
  "kernelspec": {
   "display_name": "Python 3",
   "language": "python",
   "name": "python3"
  },
  "language_info": {
   "codemirror_mode": {
    "name": "ipython",
    "version": 3
   },
   "file_extension": ".py",
   "mimetype": "text/x-python",
   "name": "python",
   "nbconvert_exporter": "python",
   "pygments_lexer": "ipython3",
   "version": "3.8.8"
  }
 },
 "nbformat": 4,
 "nbformat_minor": 1
}