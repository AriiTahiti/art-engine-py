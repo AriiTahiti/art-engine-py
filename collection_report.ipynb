{
 "cells": [
  {
   "cell_type": "markdown",
   "metadata": {
    "collapsed": true
   },
   "source": [
    "# Collection Report\n",
    "\n",
    "\n",
    "This report aim to visualize the statistics of the collection that has been created. This can help the team to decide if the collection generated respect the statistics, follow the randomization and also it will help the team to search art with specific attributs.\n"
   ]
  },
  {
   "cell_type": "code",
   "execution_count": 55,
   "metadata": {},
   "outputs": [],
   "source": [
    "import json\n",
    "import pandas as pd\n",
    "import numpy as np\n",
    "import re\n",
    "from itertools import chain\n",
    "\n",
    "\n",
    "\n",
    "def cap_sentence(s):\n",
    "    return ''.join((c.upper() if prev == ' ' else c) for c, prev in zip(s, chain(' ', s)))\n",
    "\n",
    "pattern = r'[0-9]'"
   ]
  },
  {
   "cell_type": "code",
   "execution_count": 56,
   "metadata": {},
   "outputs": [],
   "source": [
    "# import data\n",
    "with open('final_collection.json') as f:\n",
    "    metadatas =json.loads(f.read())\n",
    "    final = pd.DataFrame(json.loads(metadatas))\n",
    "\n",
    "# Formating final\n",
    "layers = ['Accessories', 'Background', 'Bandanas', 'Beard', 'Cloths', 'Extra', 'Eye Cover',\n",
    "          'Eyes', 'Hats', 'In Mouth', 'Skeleton', 'Teeth']\n",
    "\n",
    "for var in layers:\n",
    "    final[var] = np.nan\n",
    "\n",
    "for index, row in final.iterrows():\n",
    "    all_attributes = row.attributes\n",
    "    for attr in all_attributes:\n",
    "        final.loc[index, attr['name']] = attr['value']\n",
    "\n",
    "\n",
    "data = pd.read_excel('attributes.xlsx')\n",
    "\n",
    "# Formating the data\n",
    "data['GROUPS'] = data['GROUPS'].ffill()\n",
    "data = data[data['FILE NAMES'].notnull()]\n",
    "\n",
    "data = data[data['GROUPS'] != 'LEGENDARIES']\n",
    "data = data[data['GROUPS'] != '12-EXTRA']\n",
    "data = data.drop(['COLORS MATCHING', 'FORCED MIX'], axis=1).reset_index(drop=True)"
   ]
  },
  {
   "cell_type": "markdown",
   "metadata": {},
   "source": [
    "### Assertion Statistics\n"
   ]
  },
  {
   "cell_type": "code",
   "execution_count": 57,
   "metadata": {},
   "outputs": [],
   "source": [
    "number_nfts = 4840\n",
    "error_tolerance = 0.03\n"
   ]
  },
  {
   "cell_type": "markdown",
   "metadata": {},
   "source": [
    "###  Number of NFT Generated"
   ]
  },
  {
   "cell_type": "code",
   "execution_count": 58,
   "metadata": {},
   "outputs": [
    {
     "name": "stdout",
     "output_type": "stream",
     "text": [
      "Number of NFTs generated: 4840\n"
     ]
    }
   ],
   "source": [
    "assert number_nfts == len(final)\n",
    "print(f'Number of NFTs generated: {len(final)}')"
   ]
  },
  {
   "cell_type": "markdown",
   "metadata": {},
   "source": [
    "## Check Distribution"
   ]
  },
  {
   "cell_type": "code",
   "execution_count": 59,
   "metadata": {},
   "outputs": [],
   "source": [
    "# Create the expected number of Appearance\n",
    "        \n",
    "data['expected_dist'] = data['% DISTRIBUTION'] * number_nfts / 100\n",
    "data['expected_dist'] = data['expected_dist'].astype(int)\n",
    "\n",
    "data['upper'] = data['expected_dist'] * (1 + error_tolerance)\n",
    "data['upper'] = data['upper'].astype(int)\n",
    "\n",
    "data['lower'] = data['expected_dist'] * (1 - error_tolerance)\n",
    "data['lower'] = data['lower'].astype(int)\n"
   ]
  },
  {
   "cell_type": "markdown",
   "metadata": {},
   "source": [
    "### Assert All Disibution\n"
   ]
  },
  {
   "cell_type": "code",
   "execution_count": 60,
   "metadata": {},
   "outputs": [],
   "source": [
    "data['real_dist'] = np.nan\n",
    "\n",
    "for index, row in data.iterrows():\n",
    "    \n",
    "    group_str = row.GROUPS\n",
    "\n",
    "    grp_name = re.sub(pattern, '', group_str.lower())\n",
    "    grp_name = grp_name.replace('-', '')\n",
    "    grp_name = cap_sentence(grp_name)\n",
    "\n",
    "    attribute = row['ATTRIBUTE NAMES']\n",
    "\n",
    "    all_attributes = final[final[grp_name] == attribute]\n",
    "    \n",
    "    data.loc[index, 'real_dist'] = len(all_attributes)\n"
   ]
  },
  {
   "cell_type": "code",
   "execution_count": 67,
   "metadata": {},
   "outputs": [
    {
     "name": "stdout",
     "output_type": "stream",
     "text": [
      "JRS #1702\n",
      "JRS #2585\n",
      "JRS #4059\n",
      "JRS #4368\n",
      "JRS #4619\n"
     ]
    }
   ],
   "source": [
    "all_attributes = final[final['accessories']=='GOLD']\n",
    "\n",
    "for index, row in all_attributes.iterrows():\n",
    "    print(row['name'])"
   ]
  },
  {
   "cell_type": "code",
   "execution_count": 46,
   "metadata": {},
   "outputs": [],
   "source": [
    "data['difference'] = 1 - data['expected_dist'] / data['real_dist']"
   ]
  },
  {
   "cell_type": "code",
   "execution_count": 47,
   "metadata": {},
   "outputs": [],
   "source": [
    "data.to_csv('analysis.csv', index=False)"
   ]
  },
  {
   "cell_type": "code",
   "execution_count": 48,
   "metadata": {},
   "outputs": [
    {
     "data": {
      "text/html": [
       "<div>\n",
       "<style scoped>\n",
       "    .dataframe tbody tr th:only-of-type {\n",
       "        vertical-align: middle;\n",
       "    }\n",
       "\n",
       "    .dataframe tbody tr th {\n",
       "        vertical-align: top;\n",
       "    }\n",
       "\n",
       "    .dataframe thead th {\n",
       "        text-align: right;\n",
       "    }\n",
       "</style>\n",
       "<table border=\"1\" class=\"dataframe\">\n",
       "  <thead>\n",
       "    <tr style=\"text-align: right;\">\n",
       "      <th></th>\n",
       "      <th>GROUPS</th>\n",
       "      <th>FILE NAMES</th>\n",
       "      <th>ATTRIBUTE NAMES</th>\n",
       "      <th>% DISTRIBUTION</th>\n",
       "      <th>expected_dist</th>\n",
       "      <th>upper</th>\n",
       "      <th>lower</th>\n",
       "      <th>real_dist</th>\n",
       "      <th>difference</th>\n",
       "    </tr>\n",
       "  </thead>\n",
       "  <tbody>\n",
       "    <tr>\n",
       "      <th>0</th>\n",
       "      <td>1-BACKGROUND</td>\n",
       "      <td>JRS BG 1.png</td>\n",
       "      <td>BLUE SMOKE</td>\n",
       "      <td>100</td>\n",
       "      <td>4840</td>\n",
       "      <td>4985</td>\n",
       "      <td>4694</td>\n",
       "      <td>4840.0</td>\n",
       "      <td>0.000000</td>\n",
       "    </tr>\n",
       "    <tr>\n",
       "      <th>1</th>\n",
       "      <td>2-SKELETON</td>\n",
       "      <td>JRS SKELETON 1 BONES.png</td>\n",
       "      <td>BONES</td>\n",
       "      <td>37</td>\n",
       "      <td>1790</td>\n",
       "      <td>1843</td>\n",
       "      <td>1736</td>\n",
       "      <td>1791.0</td>\n",
       "      <td>0.000558</td>\n",
       "    </tr>\n",
       "    <tr>\n",
       "      <th>2</th>\n",
       "      <td>2-SKELETON</td>\n",
       "      <td>JRS SKELETON 2 DIRTY.png</td>\n",
       "      <td>DIRTY</td>\n",
       "      <td>32</td>\n",
       "      <td>1548</td>\n",
       "      <td>1594</td>\n",
       "      <td>1501</td>\n",
       "      <td>1549.0</td>\n",
       "      <td>0.000646</td>\n",
       "    </tr>\n",
       "    <tr>\n",
       "      <th>3</th>\n",
       "      <td>2-SKELETON</td>\n",
       "      <td>JRS SKELETON 3 BURNED.png</td>\n",
       "      <td>BURNED</td>\n",
       "      <td>12</td>\n",
       "      <td>580</td>\n",
       "      <td>597</td>\n",
       "      <td>562</td>\n",
       "      <td>581.0</td>\n",
       "      <td>0.001721</td>\n",
       "    </tr>\n",
       "    <tr>\n",
       "      <th>4</th>\n",
       "      <td>2-SKELETON</td>\n",
       "      <td>JRS SKELETON 4 OIL STAINS.png</td>\n",
       "      <td>STAINED</td>\n",
       "      <td>10</td>\n",
       "      <td>484</td>\n",
       "      <td>498</td>\n",
       "      <td>469</td>\n",
       "      <td>484.0</td>\n",
       "      <td>0.000000</td>\n",
       "    </tr>\n",
       "    <tr>\n",
       "      <th>...</th>\n",
       "      <td>...</td>\n",
       "      <td>...</td>\n",
       "      <td>...</td>\n",
       "      <td>...</td>\n",
       "      <td>...</td>\n",
       "      <td>...</td>\n",
       "      <td>...</td>\n",
       "      <td>...</td>\n",
       "      <td>...</td>\n",
       "    </tr>\n",
       "    <tr>\n",
       "      <th>207</th>\n",
       "      <td>11-BEARD</td>\n",
       "      <td>JRS BEARD 5 PINCH BLACK.png</td>\n",
       "      <td>PINCH BLACK</td>\n",
       "      <td>2</td>\n",
       "      <td>96</td>\n",
       "      <td>98</td>\n",
       "      <td>93</td>\n",
       "      <td>97.0</td>\n",
       "      <td>0.010309</td>\n",
       "    </tr>\n",
       "    <tr>\n",
       "      <th>208</th>\n",
       "      <td>11-BEARD</td>\n",
       "      <td>JRS BEARD 6 PINCH WHITE.png</td>\n",
       "      <td>PINCH WHITE</td>\n",
       "      <td>2</td>\n",
       "      <td>96</td>\n",
       "      <td>98</td>\n",
       "      <td>93</td>\n",
       "      <td>96.0</td>\n",
       "      <td>0.000000</td>\n",
       "    </tr>\n",
       "    <tr>\n",
       "      <th>209</th>\n",
       "      <td>11-BEARD</td>\n",
       "      <td>JRS BEARD 7 STACH GREY.png</td>\n",
       "      <td>STACH GREY</td>\n",
       "      <td>3</td>\n",
       "      <td>145</td>\n",
       "      <td>149</td>\n",
       "      <td>140</td>\n",
       "      <td>145.0</td>\n",
       "      <td>0.000000</td>\n",
       "    </tr>\n",
       "    <tr>\n",
       "      <th>210</th>\n",
       "      <td>11-BEARD</td>\n",
       "      <td>JRS BEARD 8 STACH BLACK.png</td>\n",
       "      <td>STACH BLACK</td>\n",
       "      <td>2</td>\n",
       "      <td>96</td>\n",
       "      <td>98</td>\n",
       "      <td>93</td>\n",
       "      <td>97.0</td>\n",
       "      <td>0.010309</td>\n",
       "    </tr>\n",
       "    <tr>\n",
       "      <th>211</th>\n",
       "      <td>11-BEARD</td>\n",
       "      <td>JRS BEARD 9 STACH WHITE.png</td>\n",
       "      <td>STACH WHITE</td>\n",
       "      <td>2</td>\n",
       "      <td>96</td>\n",
       "      <td>98</td>\n",
       "      <td>93</td>\n",
       "      <td>97.0</td>\n",
       "      <td>0.010309</td>\n",
       "    </tr>\n",
       "  </tbody>\n",
       "</table>\n",
       "<p>212 rows × 9 columns</p>\n",
       "</div>"
      ],
      "text/plain": [
       "           GROUPS                     FILE NAMES ATTRIBUTE NAMES  \\\n",
       "0    1-BACKGROUND                   JRS BG 1.png      BLUE SMOKE   \n",
       "1      2-SKELETON       JRS SKELETON 1 BONES.png           BONES   \n",
       "2      2-SKELETON       JRS SKELETON 2 DIRTY.png           DIRTY   \n",
       "3      2-SKELETON      JRS SKELETON 3 BURNED.png          BURNED   \n",
       "4      2-SKELETON  JRS SKELETON 4 OIL STAINS.png         STAINED   \n",
       "..            ...                            ...             ...   \n",
       "207      11-BEARD    JRS BEARD 5 PINCH BLACK.png     PINCH BLACK   \n",
       "208      11-BEARD    JRS BEARD 6 PINCH WHITE.png     PINCH WHITE   \n",
       "209      11-BEARD     JRS BEARD 7 STACH GREY.png      STACH GREY   \n",
       "210      11-BEARD    JRS BEARD 8 STACH BLACK.png     STACH BLACK   \n",
       "211      11-BEARD    JRS BEARD 9 STACH WHITE.png     STACH WHITE   \n",
       "\n",
       "    % DISTRIBUTION  expected_dist  upper  lower  real_dist  difference  \n",
       "0              100           4840   4985   4694     4840.0    0.000000  \n",
       "1               37           1790   1843   1736     1791.0    0.000558  \n",
       "2               32           1548   1594   1501     1549.0    0.000646  \n",
       "3               12            580    597    562      581.0    0.001721  \n",
       "4               10            484    498    469      484.0    0.000000  \n",
       "..             ...            ...    ...    ...        ...         ...  \n",
       "207              2             96     98     93       97.0    0.010309  \n",
       "208              2             96     98     93       96.0    0.000000  \n",
       "209              3            145    149    140      145.0    0.000000  \n",
       "210              2             96     98     93       97.0    0.010309  \n",
       "211              2             96     98     93       97.0    0.010309  \n",
       "\n",
       "[212 rows x 9 columns]"
      ]
     },
     "execution_count": 48,
     "metadata": {},
     "output_type": "execute_result"
    }
   ],
   "source": [
    "data"
   ]
  },
  {
   "cell_type": "code",
   "execution_count": 49,
   "metadata": {},
   "outputs": [],
   "source": [
    "### 1 - Background"
   ]
  },
  {
   "cell_type": "code",
   "execution_count": 50,
   "metadata": {},
   "outputs": [],
   "source": [
    "### 1 - Background"
   ]
  },
  {
   "cell_type": "code",
   "execution_count": 51,
   "metadata": {},
   "outputs": [],
   "source": [
    "### 1 - Background"
   ]
  },
  {
   "cell_type": "code",
   "execution_count": 52,
   "metadata": {},
   "outputs": [],
   "source": [
    "### 1 - Background"
   ]
  },
  {
   "cell_type": "code",
   "execution_count": 53,
   "metadata": {},
   "outputs": [],
   "source": [
    "### 1 - Background"
   ]
  },
  {
   "cell_type": "code",
   "execution_count": 54,
   "metadata": {},
   "outputs": [],
   "source": [
    "### 1 - Background"
   ]
  },
  {
   "cell_type": "code",
   "execution_count": 54,
   "metadata": {},
   "outputs": [],
   "source": []
  },
  {
   "cell_type": "code",
   "execution_count": 54,
   "metadata": {},
   "outputs": [],
   "source": []
  },
  {
   "cell_type": "code",
   "execution_count": 54,
   "metadata": {},
   "outputs": [],
   "source": []
  },
  {
   "cell_type": "code",
   "execution_count": 54,
   "metadata": {},
   "outputs": [],
   "source": []
  },
  {
   "cell_type": "code",
   "execution_count": 54,
   "metadata": {},
   "outputs": [],
   "source": []
  },
  {
   "cell_type": "code",
   "execution_count": 54,
   "metadata": {},
   "outputs": [],
   "source": []
  },
  {
   "cell_type": "code",
   "execution_count": 54,
   "metadata": {},
   "outputs": [],
   "source": []
  },
  {
   "cell_type": "code",
   "execution_count": 54,
   "metadata": {},
   "outputs": [],
   "source": []
  },
  {
   "cell_type": "code",
   "execution_count": 54,
   "metadata": {},
   "outputs": [],
   "source": []
  },
  {
   "cell_type": "code",
   "execution_count": 54,
   "metadata": {},
   "outputs": [],
   "source": []
  },
  {
   "cell_type": "code",
   "execution_count": 54,
   "metadata": {},
   "outputs": [],
   "source": []
  },
  {
   "cell_type": "code",
   "execution_count": 54,
   "metadata": {},
   "outputs": [],
   "source": []
  }
 ],
 "metadata": {
  "kernelspec": {
   "display_name": "Python 3",
   "language": "python",
   "name": "python3"
  },
  "language_info": {
   "codemirror_mode": {
    "name": "ipython",
    "version": 3
   },
   "file_extension": ".py",
   "mimetype": "text/x-python",
   "name": "python",
   "nbconvert_exporter": "python",
   "pygments_lexer": "ipython3",
   "version": "3.8.8"
  }
 },
 "nbformat": 4,
 "nbformat_minor": 1
}
